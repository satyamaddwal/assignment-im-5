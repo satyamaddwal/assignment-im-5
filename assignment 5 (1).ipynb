{
 "cells": [
  {
   "cell_type": "code",
   "execution_count": 1,
   "id": "c59eaa35-bfa2-4a67-8501-aeb549bab898",
   "metadata": {},
   "outputs": [
    {
     "data": {
      "text/plain": [
       "' Question 1. who developed the python programming language.  '"
      ]
     },
     "execution_count": 1,
     "metadata": {},
     "output_type": "execute_result"
    }
   ],
   "source": [
    "''' Question 1. who developed the python programming language.  '''\n",
    "\n",
    "# solution  :- python is developed by Guido van Rossum at CWI, in late 1980."
   ]
  },
  {
   "cell_type": "code",
   "execution_count": 2,
   "id": "363888d3-e8d3-4369-90d7-e8fda680b07a",
   "metadata": {},
   "outputs": [
    {
     "data": {
      "text/plain": [
       "'\\npython is a multi-paradigm programming language that supports various types of programming,such as;\\n1. object-oriented programming \\n2. Functional programming\\n3. Procedural programming \\n4. Aspect- oriented programming\\n'"
      ]
     },
     "execution_count": 2,
     "metadata": {},
     "output_type": "execute_result"
    }
   ],
   "source": [
    "''' Question 2. which type of programming does python support.  '''\n",
    "\n",
    "# solution\n",
    "'''\n",
    "python is a multi-paradigm programming language that supports various types of programming,such as;\n",
    "1. object-oriented programming \n",
    "2. Functional programming\n",
    "3. Procedural programming \n",
    "4. Aspect- oriented programming\n",
    "'''"
   ]
  },
  {
   "cell_type": "code",
   "execution_count": 3,
   "id": "08cf2ab0-e33b-4c37-94db-ee802e4c209d",
   "metadata": {},
   "outputs": [
    {
     "data": {
      "text/plain": [
       "'\\nYes, python is a case sensitive language, which means that it treats uppercase and lowercase\\nletters differently. this applies to identifiers as well, such as variable names, function names,\\nclass names, and other user-defined names.\\n'"
      ]
     },
     "execution_count": 3,
     "metadata": {},
     "output_type": "execute_result"
    }
   ],
   "source": [
    "''' Question 3. Is python case sensitive when dealing with identifiers?  '''\n",
    "\n",
    "# solution\n",
    "'''\n",
    "Yes, python is a case sensitive language, which means that it treats uppercase and lowercase\n",
    "letters differently. this applies to identifiers as well, such as variable names, function names,\n",
    "class names, and other user-defined names.\n",
    "'''"
   ]
  },
  {
   "cell_type": "code",
   "execution_count": 4,
   "id": "1ebdb5cf-589c-4ac0-b673-7350443ca268",
   "metadata": {},
   "outputs": [
    {
     "data": {
      "text/plain": [
       "'\\nThe correct extension for python source code files is pi. \\n'"
      ]
     },
     "execution_count": 4,
     "metadata": {},
     "output_type": "execute_result"
    }
   ],
   "source": [
    "''' Question 4. What is the correct extension of the python file ?  '''\n",
    "\n",
    "# solution\n",
    "'''\n",
    "The correct extension for python source code files is pi. \n",
    "'''"
   ]
  },
  {
   "cell_type": "code",
   "execution_count": 5,
   "id": "5d1bdaf0-b0cb-40a2-a801-02a714187eb4",
   "metadata": {},
   "outputs": [
    {
     "data": {
      "text/plain": [
       "'\\nThe python program is first compiled then interpreted but the compilation part is hidden from \\nprogrammer\\n'"
      ]
     },
     "execution_count": 5,
     "metadata": {},
     "output_type": "execute_result"
    }
   ],
   "source": [
    "''' Question 5. Is python code compiled or interpreted ?  '''\n",
    "\n",
    "# solution \n",
    "'''\n",
    "The python program is first compiled then interpreted but the compilation part is hidden from \n",
    "programmer\n",
    "'''"
   ]
  },
  {
   "cell_type": "code",
   "execution_count": 6,
   "id": "d97dd3f2-4160-4d4c-be62-8cf362308320",
   "metadata": {},
   "outputs": [
    {
     "data": {
      "text/plain": [
       "'\\n1. A module \\n2. A class definition\\n3. A function body\\n'"
      ]
     },
     "execution_count": 6,
     "metadata": {},
     "output_type": "execute_result"
    }
   ],
   "source": [
    "''' Question 6. Name a few block of code used to define in python language ?  '''\n",
    "\n",
    "# solution\n",
    "'''\n",
    "1. A module \n",
    "2. A class definition\n",
    "3. A function body\n",
    "'''"
   ]
  },
  {
   "cell_type": "code",
   "execution_count": 7,
   "id": "b593ce19-eab0-4e4e-af85-148e40779ba3",
   "metadata": {},
   "outputs": [
    {
     "data": {
      "text/plain": [
       "'\\nThe hash (#) character is used to give single-line comments in python\\n'"
      ]
     },
     "execution_count": 7,
     "metadata": {},
     "output_type": "execute_result"
    }
   ],
   "source": [
    "''' Question 7. State a character used to give single-line comments in python ?  '''\n",
    "\n",
    "# solution\n",
    "'''\n",
    "The hash (#) character is used to give single-line comments in python\n",
    "'''"
   ]
  },
  {
   "cell_type": "code",
   "execution_count": 1,
   "id": "507368b4-74b7-44f6-84f0-16b454ce8bd3",
   "metadata": {},
   "outputs": [
    {
     "data": {
      "text/plain": [
       "'\\n1. sys.verson\\n2. sys.version_info\\n3. platform.python_version\\n'"
      ]
     },
     "execution_count": 1,
     "metadata": {},
     "output_type": "execute_result"
    }
   ],
   "source": [
    "''' Question 8. Mention functions which can help us to find the version of python that we \n",
    "are currently working on ?  '''\n",
    "\n",
    "# solution\n",
    "'''\n",
    "1. sys.verson\n",
    "2. sys.version_info\n",
    "3. platform.python_version\n",
    "'''"
   ]
  },
  {
   "cell_type": "code",
   "execution_count": 2,
   "id": "2a48caff-7ad2-435f-9d90-c5fb5f3733f6",
   "metadata": {},
   "outputs": [
    {
     "data": {
      "text/plain": [
       "'\\nLambda function is used to create anonymous function at runtime \\n'"
      ]
     },
     "execution_count": 2,
     "metadata": {},
     "output_type": "execute_result"
    }
   ],
   "source": [
    "''' Question 9. python supports the creation of anonymous functions at runtime, using a \n",
    "construct called ___________ ?  '''\n",
    "\n",
    "# solution \n",
    "'''\n",
    "Lambda function is used to create anonymous function at runtime \n",
    "'''"
   ]
  },
  {
   "cell_type": "code",
   "execution_count": 3,
   "id": "bebfb1ab-dac7-45c1-b394-62048fbbe7fd",
   "metadata": {},
   "outputs": [
    {
     "data": {
      "text/plain": [
       "'\\nPIP stands for pip installs packages. it is a recursive  acronym, that can also mean pip installs python or preferred\\ninstaller program.  \\n'"
      ]
     },
     "execution_count": 3,
     "metadata": {},
     "output_type": "execute_result"
    }
   ],
   "source": [
    "''' Question 10. What does pip stand for python ?  '''\n",
    "\n",
    "# solution\n",
    "'''\n",
    "PIP stands for pip installs packages. it is a recursive  acronym, that can also mean pip installs python or preferred\n",
    "installer program.  \n",
    "'''"
   ]
  },
  {
   "cell_type": "code",
   "execution_count": 4,
   "id": "2f18065d-a9a1-480e-8c86-c5d334040194",
   "metadata": {},
   "outputs": [
    {
     "data": {
      "text/plain": [
       "'\\n[len(), type(), print(), range(), abs()]\\n'"
      ]
     },
     "execution_count": 4,
     "metadata": {},
     "output_type": "execute_result"
    }
   ],
   "source": [
    "''' Question 11. Mention a few built-in function in python ?  '''\n",
    "\n",
    "# solution\n",
    "'''\n",
    "[len(), type(), print(), range(), abs()]\n",
    "'''"
   ]
  },
  {
   "cell_type": "code",
   "execution_count": 5,
   "id": "2e282393-e15e-4fa1-9d71-fae3704dafa0",
   "metadata": {},
   "outputs": [
    {
     "data": {
      "text/plain": [
       "'\\nThe maximum possible length of an identifier in python is 79 characters.\\n'"
      ]
     },
     "execution_count": 5,
     "metadata": {},
     "output_type": "execute_result"
    }
   ],
   "source": [
    "''' Question 12. what is the maximum possible length of an identifier in python ?  '''\n",
    "\n",
    "# solution \n",
    "'''\n",
    "The maximum possible length of an identifier in python is 79 characters.\n",
    "'''"
   ]
  },
  {
   "cell_type": "code",
   "execution_count": 6,
   "id": "d471112a-0889-4350-a961-eff735ad6ecf",
   "metadata": {},
   "outputs": [
    {
     "data": {
      "text/plain": [
       "'\\npython is a powerful, versatile, and easy to use language that has many benefits over other programming languages.\\nsome of the benefits of using python are simplicity, rapid development and extensibility.\\n'"
      ]
     },
     "execution_count": 6,
     "metadata": {},
     "output_type": "execute_result"
    }
   ],
   "source": [
    "''' Question 13. what are the benfits of using python.  '''\n",
    "\n",
    "# solution \n",
    "'''\n",
    "python is a powerful, versatile, and easy to use language that has many benefits over other programming languages.\n",
    "some of the benefits of using python are simplicity, rapid development and extensibility.\n",
    "'''"
   ]
  },
  {
   "cell_type": "code",
   "execution_count": 7,
   "id": "46ee91c5-e580-46f8-a883-ba3bf09f3361",
   "metadata": {},
   "outputs": [
    {
     "data": {
      "text/plain": [
       "'\\nMemory management in python is the process of allocating and deallocating memory for objects and variables in your program.\\npython uses a private heap space to store all the objects and data structures.\\n'"
      ]
     },
     "execution_count": 7,
     "metadata": {},
     "output_type": "execute_result"
    }
   ],
   "source": [
    "''' Question 14. how is memory managed in python ?  '''\n",
    "\n",
    "# solution \n",
    "'''\n",
    "Memory management in python is the process of allocating and deallocating memory for objects and variables in your program.\n",
    "python uses a private heap space to store all the objects and data structures.\n",
    "'''"
   ]
  },
  {
   "cell_type": "code",
   "execution_count": 8,
   "id": "4c401f9f-3f63-45fe-879d-24bd857ba6c6",
   "metadata": {},
   "outputs": [
    {
     "data": {
      "text/plain": [
       "'\\n* Download the latest version of python from the official website: python.org.\\n* Run the installer and select the option to add Python to PATH at the bottom of the setup screen. \\n* Finish the installation and verify that Python is working by opening a command prompt and typing python. you should see the\\npython version and the interactive shell.\\n'"
      ]
     },
     "execution_count": 8,
     "metadata": {},
     "output_type": "execute_result"
    }
   ],
   "source": [
    "''' Question 15. How to install python on windows and set path variables.  '''\n",
    "\n",
    "# solution\n",
    "'''\n",
    "* Download the latest version of python from the official website: python.org.\n",
    "* Run the installer and select the option to add Python to PATH at the bottom of the setup screen. \n",
    "* Finish the installation and verify that Python is working by opening a command prompt and typing python. you should see the\n",
    "python version and the interactive shell.\n",
    "'''"
   ]
  },
  {
   "cell_type": "code",
   "execution_count": 9,
   "id": "005324aa-e15c-4340-bc19-1c0736c684b2",
   "metadata": {},
   "outputs": [
    {
     "data": {
      "text/plain": [
       "'\\nyes, indentation is required in python.\\n'"
      ]
     },
     "execution_count": 9,
     "metadata": {},
     "output_type": "execute_result"
    }
   ],
   "source": [
    "''' Question 16. Is indentation required in python.  '''\n",
    "\n",
    "# solution \n",
    "'''\n",
    "yes, indentation is required in python.\n",
    "'''"
   ]
  },
  {
   "cell_type": "code",
   "execution_count": null,
   "id": "a6eeeed9-6ded-4c63-a2a5-1e6a6feb8a0a",
   "metadata": {},
   "outputs": [],
   "source": []
  }
 ],
 "metadata": {
  "kernelspec": {
   "display_name": "Python 3 (ipykernel)",
   "language": "python",
   "name": "python3"
  },
  "language_info": {
   "codemirror_mode": {
    "name": "ipython",
    "version": 3
   },
   "file_extension": ".py",
   "mimetype": "text/x-python",
   "name": "python",
   "nbconvert_exporter": "python",
   "pygments_lexer": "ipython3",
   "version": "3.10.8"
  }
 },
 "nbformat": 4,
 "nbformat_minor": 5
}
